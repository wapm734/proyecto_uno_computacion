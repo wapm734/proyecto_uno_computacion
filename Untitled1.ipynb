{
  "nbformat": 4,
  "nbformat_minor": 0,
  "metadata": {
    "colab": {
      "provenance": [],
      "authorship_tag": "ABX9TyMZNZulpi9Lp5i+S71RymwY",
      "include_colab_link": true
    },
    "kernelspec": {
      "name": "python3",
      "display_name": "Python 3"
    },
    "language_info": {
      "name": "python"
    }
  },
  "cells": [
    {
      "cell_type": "markdown",
      "metadata": {
        "id": "view-in-github",
        "colab_type": "text"
      },
      "source": [
        "<a href=\"https://colab.research.google.com/github/wapm734/proyecto_uno_computacion/blob/main/Untitled1.ipynb\" target=\"_parent\"><img src=\"https://colab.research.google.com/assets/colab-badge.svg\" alt=\"Open In Colab\"/></a>"
      ]
    },
    {
      "cell_type": "markdown",
      "source": [
        "Autor: Wilber Arbey  Posada Morales\n",
        "\n",
        "Institución universitaria:\n",
        "Universidad de Antioquia  \n",
        "\n",
        "Materia:\n",
        "Computación numérica\n",
        "\n",
        "Profesor:\n",
        "Jaime Alejandro Valencia Velasquez - Esteban Velilla Hernandez\n",
        "\n",
        "Lugar y fecha:\n",
        "Medellín, 5 de Septiembre  de 2025\n",
        "\n",
        "\n"
      ],
      "metadata": {
        "id": "CY67Kk4INOO8"
      }
    },
    {
      "cell_type": "markdown",
      "source": [
        "**importacion de librerias**\n",
        "\n",
        " lo primero que haremos es importar las librerias que vamos a usar en este codigo, ya que vamos a hacer muchos calculos trigonometricos necesarios para la geometria solar importaremos la libreria math que tiene las funciones necesarias como seno, coseno, arccoseno, etc, y como nuestro objetivo final es una marea clara de ver los datos obtenidos usaremos la libreria matplotlib.pyplot que nos da la posibilidad de hacer varios graficos basados en matlab."
      ],
      "metadata": {
        "id": "3RiOPangz2aT"
      }
    },
    {
      "cell_type": "code",
      "source": [
        "import math\n",
        "import matplotlib.pyplot as plt"
      ],
      "metadata": {
        "id": "rtOpGC2Wz21K"
      },
      "execution_count": 1,
      "outputs": []
    },
    {
      "cell_type": "markdown",
      "source": [
        "**Definicion de variables**\n",
        "\n",
        "la siguiente parte del codigo nos permite solicitar desde consola los datos necesarios para realizar toda la geometria solar necesaria para ubicar con las formulas en nuestro modelado la posicion de nuestro panel, tanbien no permite saber las dimensiones de el mismo y las codiciones ambiantaales como la difuminacion de la irradancia y la abeldo de la superficie alrededor del panel.\n",
        "\n",
        "**GSC:** la constante solar es la cantidad promedio de radiación solar que incide por unidad de área en la parte superior de la atmósfera terrestre, en un plano perpendicular a los rayos del sol y a una distancia promedio de la Tierra al Sol.\n",
        "\n",
        "**k:** coeficiente de atenuacion atmosfericaes un parámetro que describe cuánta radiación solar es absorbida y dispersada por la atmósfera a medida que atraviesa las diferentes capas (aire, vapor de agua, aerosoles, etc.).\n",
        "\n",
        "**Latitud:** La latitud es la distancia angular que hay entre un punto cualquiera de nuestro planeta Tierra y la línea que lo divide al medio, o sea, el ecuador.\n",
        "\n",
        "**Longitud:** Es el ángulo imaginario que determina la distancia entre un punto y el meridiano de Greenwich o meridiano 0, que atraviesa la localidad del mismo nombre en Londres, Inglaterra.\n",
        "\n",
        "**Huso:** Cada una de las partes en que queda dividida la superficie terrestre por 24 meridianos igualmente espaciados y en que suele regir convencionalmente un mismo horario.\n",
        "\n",
        "**Azimut:** es un ángulo horizontal medido en el plano del horizonte. Es la dirección de una línea que parte del norte en sentido de las agujas del reloj y es definida por un ángulo horizontal de una poligonal.\n",
        "\n",
        "**DHI:** Irradiancia Difusa Horizontal (Diffuse Horizontal Irradiance).\n",
        "Es la componente de la radiación solar que llega a una superficie horizontal después de haber sido dispersada por la atmósfera\n",
        "\n",
        "**rho:** es la medida de la reflectividad indica qué fracción de la radiación solar incidente es reflejada por la superficie."
      ],
      "metadata": {
        "id": "SwaLmdblNu3T"
      }
    },
    {
      "cell_type": "code",
      "source": [
        "latitud = float(input(\"Ingrese la latitud (°): \"))\n",
        "longitud = float(input(\"Ingrese la longitud (°): \"))\n",
        "huso = float(input(\"Ingrese el huso horario (°): \"))\n",
        "n = int(input(\"Ingrese el día del año (1-365): \"))\n",
        "beta = float(input(\"Ingrese ángulo de inclinación del panel (°): \"))\n",
        "azimut = float(input(\"Ingrese ángulo de acimut del panel (°): \"))\n",
        "areapanel = float(input(\"Ingrese área del panel (m²): \"))\n",
        "eta = float(input(\"Ingrese eficiencia del panel (0-1): \"))\n",
        "DHI = float(input(\"Ingrese irradiancia difusa horizontal DHI (W/m²): \"))\n",
        "rho = float(input(\"Ingrese albedo del suelo (0-1): \"))\n",
        "\n",
        "#Constantes\n",
        "Gsc = 1364  #Irradiancia solar extraterrestre (W/m²\n",
        "k = 0.1     #Coeficiente de atenuación atmosférica\n"
      ],
      "metadata": {
        "id": "DZGzsVv3Nl_J"
      },
      "execution_count": null,
      "outputs": []
    },
    {
      "cell_type": "markdown",
      "source": [
        "**Variables vacias**\n",
        "\n",
        "Definimos donde vamos a guardar los datos que obtuvimos con el codigo con el ciclo de acontinuacion.\n"
      ],
      "metadata": {
        "id": "1XlBVwYy3fzj"
      }
    },
    {
      "cell_type": "code",
      "source": [
        "energia_total = 0\n",
        "horas = []\n",
        "alturas = []\n",
        "potencias = []\n"
      ],
      "metadata": {
        "id": "s3QNKmLX0HAo"
      },
      "execution_count": 3,
      "outputs": []
    },
    {
      "cell_type": "markdown",
      "source": [
        "**Calculo hora por hora**\n",
        "\n",
        "ya llegamos a la parte importante del codigo en donde vamos a usar un ciclo y combinarlo con todas las formulas de geometria solar y de irradancia.\n",
        "\n",
        "**declinacion solar:** es el ángulo entre el plano del ecuador terrestre y la línea que une el centro de la Tierra con el centro del Sol.\n",
        "Este ángulo varía a lo largo del año debido a la inclinación del eje de rotación de la Tierra (aproximadamente 23.45°) con respecto a su órbita alrededor del Sol.\n",
        "La declinación solar determina la latitud en la que el Sol está directamente sobre la cabeza al mediodía (el punto subsolar). Su valor varía aproximadamente entre +23.45° (solsticio de verano en el hemisferio norte) y -23.45° (solsticio de invierno en el hemisferio norte), pasando por 0° en los equinoccios.\n",
        "\n",
        "**Ecuacion de tiempo:** Es una corrección que se aplica a la Hora Solar Media para obtener la Hora Solar Aparente. Esta corrección varía a lo largo del año debido a la órbita elíptica de la Tierra y la inclinación de su eje\n",
        "\n",
        "**Hora solar:**  Es la hora basada en la posición real del Sol en el cielo. Se calcula a partir de la hora local, ajustada por la diferencia de longitud con respecto al meridiano de referencia del huso horario y la Ecuación del Tiempo.\n",
        "\n",
        "**Angulo solar:** Es uno de los ángulos solares. Representa el ángulo que ha recorrido el Sol en el cielo desde el mediodía solar. Al mediodía solar, el ángulo horario es 0°. Antes del mediodía es negativo, y después del mediodía es positivo.\n",
        "\n",
        "**Angulo cenital solar:** Es el angulo entre el sol y el cenit(el punto diretamente encima del panel).\n",
        "\n",
        "**Altura solar:** Es el angulo entre el Sol y el  horizonte.\n",
        "\n",
        "**Irradiancia extraterrestre (I0):** Es la cantidad de potencia solar que incide por unidad de área sobre una superficie perpendicular a los rayos solares justo fuera de la atmósfera terrestre (es decir, en el espacio exterior). Se calcula a partir de la constante solar (Gsc) y un factor de corrección (E0) que tiene en cuenta la variación de la distancia entre la Tierra y el Sol a lo largo del año\n",
        "\n",
        "**Masa de Aire (Am):** Es una medida de cuánto \"aire\" atraviesan los rayos solares para llegar a la superficie terrestre. Depende del ángulo cenital solar: cuanto mayor sea el ángulo cenital (es decir, cuanto más bajo esté el sol en el cielo), mayor será la masa de aire que los rayos solares tienen que atravesar. Una mayor masa de aire implica mayor atenuación de la radiación solar.\n",
        "\n",
        "**Atenuación:** Es la reducción de la intensidad de la radiación solar a medida que atraviesa la atmósfera. La atenuación se produce por la absorción (por gases como el ozono, vapor de agua, etc.) y la dispersión (por moléculas de aire, aerosoles, nubes). La masa de aire (Am) y el coeficiente de atenuación atmosférica (k) son parámetros clave que determinan cuánta atenuación ocurre.\n",
        "\n",
        "**Irradiancia Directa (Ib):** Es la componente de la irradiancia solar que llega a la superficie terrestre directamente desde el disco solar, sin haber sido dispersada por la atmósfera. Se calcula aplicando la atenuación a la irradiancia extraterrestre.\n",
        "\n",
        "**GHI (Irradiancia Horizontal Global) (GHI):** Es la cantidad total de irradiancia solar que incide sobre una superficie horizontal en la Tierra. Es la suma de la irradiancia directa horizontal (componente horizontal de Ib) y la irradiancia difusa horizontal\n",
        "\n",
        "**Ángulo de Incidencia sobre el Panel (anguloincidencia):** Es el ángulo entre los rayos solares directos y la normal (una línea perpendicular) a la superficie del panel solar. Este es uno de los ángulos más críticos, ya que la cantidad de irradiancia directa que un panel recibe es proporcional al coseno de este ángulo. Un ángulo de incidencia de 0° (rayos solares perpendiculares al panel) maximiza la irradiancia directa recibida.\n",
        "\n",
        "**Irradiancia sobre el Panel (Ipanel):** Es la cantidad total de irradiancia solar que incide sobre la superficie del panel solar. Es la suma de tres componentes:\n",
        "La irradiancia directa que incide sobre el panel (teniendo en cuenta el ángulo de incidencia).\n",
        "La irradiancia difusa que llega al panel desde el cielo.\n",
        "La irradiancia reflejada por el suelo circundante (teniendo en cuenta el albedo y la inclinación del panel).\n",
        "\n",
        "**Potencia Instantánea (potencia):** Es la cantidad de energía eléctrica que el panel solar es capaz de generar en un momento dado.\n",
        "\n",
        "**Nota aclaratoria:** en esta parte del codigo converti los angulos a radianes para evitar errores con la libreria math que no recibe angulos."
      ],
      "metadata": {
        "id": "sMxZ7Pts4Cqc"
      }
    },
    {
      "cell_type": "code",
      "source": [
        "for horalocal in range(6, 19):\n",
        "    #Declinación solar\n",
        "    declinacion = 23.45 * math.sin(math.radians((360/365)*(n + 248)))\n",
        "\n",
        "    #Ecuación del tiempo\n",
        "    B = (360/365)*(n-81)\n",
        "    eot = 9.87*math.sin(math.radians(2*B)) - 7.53*math.cos(math.radians(B)) - 1.5*math.sin(math.radians(B))\n",
        "\n",
        "    #Hora solar\n",
        "    deltatlong = 4*(huso - longitud)\n",
        "    horasolar = horalocal + (deltatlong + eot)/60\n",
        "    h = 15*(horasolar - 12)  #ángulo horario\n",
        "\n",
        "    #Conversión a radianes\n",
        "    lat_rad = math.radians(latitud)\n",
        "    dec_rad = math.radians(declinacion)\n",
        "    h_rad = math.radians(h)\n",
        "    beta_rad = math.radians(beta)\n",
        "    az_rad = math.radians(azimut)\n",
        "    azs_rad = math.radians(180)  # asumimos sol al sur\n",
        "\n",
        "    #Ángulo cenital y altura solar\n",
        "    costeta = math.sin(lat_rad)*math.sin(dec_rad) + math.cos(lat_rad)*math.cos(dec_rad)*math.cos(h_rad)\n",
        "    costeta = max(-1, min(1, costeta))\n",
        "    angulocenital = math.degrees(math.acos(costeta))\n",
        "    altitud = 90 - angulocenital\n",
        "    angulocenital_rad = math.radians(angulocenital)\n",
        "\n",
        "    #Irradiancia extraterrestre\n",
        "    E0 = 1 + 0.033*math.cos(2*math.pi*n/365)\n",
        "    I0 = Gsc * E0 * math.cos(angulocenital_rad)\n",
        "\n",
        "    #Masa de aire y atenuación\n",
        "    Am = 1 / (math.cos(angulocenital_rad) + 0.05072 * abs(66.07995 - angulocenital)**(-1.6364))\n",
        "    Ib = I0 * math.exp(-k*Am)  # irradiancia directa\n",
        "    GHI = Ib*math.cos(angulocenital_rad) + DHI\n",
        "\n",
        "    #Ángulo de incidencia sobre el panel\n",
        "    costetai = math.cos(angulocenital_rad)*math.cos(beta_rad) + math.sin(angulocenital_rad)*math.sin(beta_rad)*math.cos(azs_rad - az_rad)\n",
        "    costetai = max(-1, min(1, costetai))\n",
        "    anguloincidencia = math.acos(costetai)\n",
        "\n",
        "    #Irradiancia sobre el panel\n",
        "    Ipanel = Ib*max(0, math.cos(anguloincidencia)) + DHI*((1 + math.cos(beta_rad))/2) + GHI*rho*((1 + math.cos(beta_rad))/2)\n",
        "\n",
        "    #Potencia instantánea\n",
        "    potencia = Ipanel * areapanel * eta\n",
        "\n",
        "    #Energía por hora\n",
        "    energia_total += potencia\n",
        "\n",
        "    #Guardar resultados\n",
        "    horas.append(horalocal)\n",
        "    alturas.append(altitud)\n",
        "    potencias.append(potencia)\n",
        "\n",
        "    #Mostrar resultados por hora\n",
        "    print(f\"\\nHora local: {horalocal}:00\")\n",
        "    print(f\"Ángulo cenital: {angulocenital:.2f}°\")\n",
        "    print(f\"Altura solar: {altitud:.2f}°\")\n",
        "    print(f\"Irradiancia sobre el panel: {Ipanel:.2f} W/m²\")\n",
        "    print(f\"Potencia instantánea: {potencia:.2f} W\")\n"
      ],
      "metadata": {
        "id": "43JYg6Rm0Q5S"
      },
      "execution_count": null,
      "outputs": []
    },
    {
      "cell_type": "markdown",
      "source": [
        "**Energia total por dia**\n",
        "\n",
        "ya teniendo guardada la energia total de un dia en especifico podemos podemos imprimir en la consola."
      ],
      "metadata": {
        "id": "yX6WYMf-BZJB"
      }
    },
    {
      "cell_type": "code",
      "source": [
        "#Energía total\n",
        "print(f\"\\nEnergía total diaria aproximada: {energia_total:.2f} Wh\")\n"
      ],
      "metadata": {
        "id": "9pH2ryip0zxk"
      },
      "execution_count": null,
      "outputs": []
    },
    {
      "cell_type": "markdown",
      "source": [
        "**graficas**\n",
        "\n",
        "ya esta parte de el codigo crea 2 geaficas usando matplolib.pyplo que muestran el cambio de la altura del sol en el dia y la energia por hora a lo largo de el dia."
      ],
      "metadata": {
        "id": "NLJbXUg5NcMs"
      }
    },
    {
      "cell_type": "code",
      "source": [
        "plt.figure(figsize=(10,5))\n",
        "plt.plot(horas, alturas, marker='o')\n",
        "plt.title(\"Altura solar vs Hora del día\")\n",
        "plt.xlabel(\"Hora local\")\n",
        "plt.ylabel(\"Altura solar (°)\")\n",
        "plt.grid(True)\n",
        "plt.show()\n",
        "\n",
        "plt.figure(figsize=(10,5))\n",
        "plt.plot(horas, potencias, marker='o', color='orange')\n",
        "plt.title(\"Potencia del panel FV vs Hora del día\")\n",
        "plt.xlabel(\"Hora local\")\n",
        "plt.ylabel(\"Potencia eléctrica (W)\")\n",
        "plt.grid(True)\n",
        "plt.show()\n"
      ],
      "metadata": {
        "id": "m3Fr-trQ03R7"
      },
      "execution_count": null,
      "outputs": []
    }
  ]
}